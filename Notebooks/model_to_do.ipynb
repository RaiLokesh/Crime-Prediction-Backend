{
  "cells": [
    {
      "cell_type": "markdown",
      "metadata": {
        "id": "rseYZsObPqph"
      },
      "source": [
        "# Network #3.1\n",
        "\n",
        "\n",
        "## Network Input:  \n",
        "\n",
        "YEAR,\n",
        "MONTH,\n",
        "DAY,\n",
        "HOUR,\n",
        "MINUTE,\n",
        "Latitude,\n",
        "Longitude,\n",
        "Distance to Graffiti,\n",
        "Distance to a Drinking Fountain\n",
        "\n",
        "## Outputs:\n",
        "\n",
        "Probability of crime occuring"
      ]
    },
    {
      "cell_type": "markdown",
      "metadata": {
        "id": "wQ0XF1PJP91z"
      },
      "source": [
        "#### Loading data and creating dataset to be used"
      ]
    },
    {
      "cell_type": "markdown",
      "metadata": {
        "id": "jO6b4AWjhPTR"
      },
      "source": [
        "##### Importing dataset, creating Date/Time key & adding crime"
      ]
    },
    {
      "cell_type": "code",
      "execution_count": 1,
      "metadata": {
        "colab": {
          "base_uri": "https://localhost:8080/",
          "height": 133
        },
        "id": "kTeMeT-KPxtN",
        "outputId": "06bccd42-6cb7-4eb6-ce69-9e4294f55006"
      },
      "outputs": [
        {
          "name": "stdout",
          "output_type": "stream",
          "text": [
            "Shape of Dataset imported for use: (428141, 10)\n",
            "\n",
            "Sample row\n"
          ]
        },
        {
          "data": {
            "text/html": [
              "<div>\n",
              "<style scoped>\n",
              "    .dataframe tbody tr th:only-of-type {\n",
              "        vertical-align: middle;\n",
              "    }\n",
              "\n",
              "    .dataframe tbody tr th {\n",
              "        vertical-align: top;\n",
              "    }\n",
              "\n",
              "    .dataframe thead th {\n",
              "        text-align: right;\n",
              "    }\n",
              "</style>\n",
              "<table border=\"1\" class=\"dataframe\">\n",
              "  <thead>\n",
              "    <tr style=\"text-align: right;\">\n",
              "      <th></th>\n",
              "      <th>YEAR</th>\n",
              "      <th>MONTH</th>\n",
              "      <th>DAY</th>\n",
              "      <th>HOUR</th>\n",
              "      <th>MINUTE</th>\n",
              "      <th>Neighbourhood</th>\n",
              "      <th>Latitude</th>\n",
              "      <th>Longitude</th>\n",
              "      <th>Graffiti</th>\n",
              "      <th>Drinking_Fountain</th>\n",
              "    </tr>\n",
              "  </thead>\n",
              "  <tbody>\n",
              "    <tr>\n",
              "      <th>0</th>\n",
              "      <td>2004</td>\n",
              "      <td>10</td>\n",
              "      <td>8</td>\n",
              "      <td>21.0</td>\n",
              "      <td>0.0</td>\n",
              "      <td>Fairview</td>\n",
              "      <td>49.265076</td>\n",
              "      <td>-123.118474</td>\n",
              "      <td>0.040765</td>\n",
              "      <td>0.402295</td>\n",
              "    </tr>\n",
              "  </tbody>\n",
              "</table>\n",
              "</div>"
            ],
            "text/plain": [
              "   YEAR  MONTH  DAY  HOUR  MINUTE Neighbourhood   Latitude   Longitude  \\\n",
              "0  2004     10    8  21.0     0.0      Fairview  49.265076 -123.118474   \n",
              "\n",
              "   Graffiti  Drinking_Fountain  \n",
              "0  0.040765           0.402295  "
            ]
          },
          "execution_count": 1,
          "metadata": {},
          "output_type": "execute_result"
        }
      ],
      "source": [
        "import pandas as pd\n",
        "import numpy as np\n",
        "import pickle\n",
        "\n",
        "# File loaded from Github Repo\n",
        "file_path = 'https://raw.githubusercontent.com/NasirKhalid24/ELE494-Project/master/Datasets/final_crime.csv'\n",
        "\n",
        "df = pd.read_csv(file_path)\n",
        "\n",
        "# Removing invalid points\n",
        "df = df[pd.isnull(df['NEIGHBOURHOOD']) != pd.isnull(pd.NaT)]\n",
        "\n",
        "df = df[['YEAR','MONTH','DAY','HOUR', 'MINUTE', 'Neighbourhood', 'Latitude', 'Longitude', 'Graffiti', 'Drinking_Fountain']] \n",
        "print(\"Shape of Dataset imported for use: \" + str(df.shape) + \"\\n\")\n",
        "\n",
        "print(\"Sample row\")\n",
        "df.head(1)"
      ]
    },
    {
      "cell_type": "code",
      "execution_count": 2,
      "metadata": {
        "colab": {
          "base_uri": "https://localhost:8080/",
          "height": 164
        },
        "id": "HXt0Ux2kQRoi",
        "outputId": "4b3e695e-165e-46d5-e9d4-55a1c010f730"
      },
      "outputs": [
        {
          "name": "stdout",
          "output_type": "stream",
          "text": [
            "------ Adding date-time object as key ------\n",
            "\n",
            "Sample row\n"
          ]
        },
        {
          "data": {
            "text/html": [
              "<div>\n",
              "<style scoped>\n",
              "    .dataframe tbody tr th:only-of-type {\n",
              "        vertical-align: middle;\n",
              "    }\n",
              "\n",
              "    .dataframe tbody tr th {\n",
              "        vertical-align: top;\n",
              "    }\n",
              "\n",
              "    .dataframe thead th {\n",
              "        text-align: right;\n",
              "    }\n",
              "</style>\n",
              "<table border=\"1\" class=\"dataframe\">\n",
              "  <thead>\n",
              "    <tr style=\"text-align: right;\">\n",
              "      <th></th>\n",
              "      <th>YEAR</th>\n",
              "      <th>MONTH</th>\n",
              "      <th>DAY</th>\n",
              "      <th>HOUR</th>\n",
              "      <th>MINUTE</th>\n",
              "      <th>Neighbourhood</th>\n",
              "      <th>Latitude</th>\n",
              "      <th>Longitude</th>\n",
              "      <th>Graffiti</th>\n",
              "      <th>Drinking_Fountain</th>\n",
              "    </tr>\n",
              "    <tr>\n",
              "      <th>DateTimeMix</th>\n",
              "      <th></th>\n",
              "      <th></th>\n",
              "      <th></th>\n",
              "      <th></th>\n",
              "      <th></th>\n",
              "      <th></th>\n",
              "      <th></th>\n",
              "      <th></th>\n",
              "      <th></th>\n",
              "      <th></th>\n",
              "    </tr>\n",
              "  </thead>\n",
              "  <tbody>\n",
              "    <tr>\n",
              "      <th>2004-10-08 21:00:00</th>\n",
              "      <td>2004</td>\n",
              "      <td>10</td>\n",
              "      <td>8</td>\n",
              "      <td>21.0</td>\n",
              "      <td>0.0</td>\n",
              "      <td>Fairview</td>\n",
              "      <td>49.265076</td>\n",
              "      <td>-123.118474</td>\n",
              "      <td>0.040765</td>\n",
              "      <td>0.402295</td>\n",
              "    </tr>\n",
              "  </tbody>\n",
              "</table>\n",
              "</div>"
            ],
            "text/plain": [
              "                     YEAR  MONTH  DAY  HOUR  MINUTE Neighbourhood   Latitude  \\\n",
              "DateTimeMix                                                                    \n",
              "2004-10-08 21:00:00  2004     10    8  21.0     0.0      Fairview  49.265076   \n",
              "\n",
              "                      Longitude  Graffiti  Drinking_Fountain  \n",
              "DateTimeMix                                                   \n",
              "2004-10-08 21:00:00 -123.118474  0.040765           0.402295  "
            ]
          },
          "execution_count": 2,
          "metadata": {},
          "output_type": "execute_result"
        }
      ],
      "source": [
        "# Creating a Key which will be a Date/Time object\n",
        "\n",
        "print (\"------ Adding date-time object as key ------\\n\")\n",
        "date_time_col = pd.to_datetime(df[['YEAR', 'MONTH', 'DAY', 'HOUR','MINUTE']])\n",
        "\n",
        "# Make the added Date the index of the dataset\n",
        "df['DateTimeMix'] = date_time_col\n",
        "df.set_index('DateTimeMix', inplace=True)\n",
        "\n",
        "print(\"Sample row\")\n",
        "df.head(1)"
      ]
    },
    {
      "cell_type": "code",
      "execution_count": 3,
      "metadata": {
        "colab": {
          "base_uri": "https://localhost:8080/",
          "height": 173
        },
        "id": "lSt3yfU6yUCg",
        "outputId": "591fccd4-9ca2-4689-b590-4c10566f3240"
      },
      "outputs": [
        {
          "name": "stdout",
          "output_type": "stream",
          "text": [
            "Sample row\n"
          ]
        },
        {
          "data": {
            "text/html": [
              "<div>\n",
              "<style scoped>\n",
              "    .dataframe tbody tr th:only-of-type {\n",
              "        vertical-align: middle;\n",
              "    }\n",
              "\n",
              "    .dataframe tbody tr th {\n",
              "        vertical-align: top;\n",
              "    }\n",
              "\n",
              "    .dataframe thead th {\n",
              "        text-align: right;\n",
              "    }\n",
              "</style>\n",
              "<table border=\"1\" class=\"dataframe\">\n",
              "  <thead>\n",
              "    <tr style=\"text-align: right;\">\n",
              "      <th></th>\n",
              "      <th>YEAR</th>\n",
              "      <th>MONTH</th>\n",
              "      <th>DAY</th>\n",
              "      <th>HOUR</th>\n",
              "      <th>MINUTE</th>\n",
              "      <th>Neighbourhood</th>\n",
              "      <th>Latitude</th>\n",
              "      <th>Longitude</th>\n",
              "      <th>Graffiti</th>\n",
              "      <th>Drinking_Fountain</th>\n",
              "      <th>Crime</th>\n",
              "    </tr>\n",
              "    <tr>\n",
              "      <th>DateTimeMix</th>\n",
              "      <th></th>\n",
              "      <th></th>\n",
              "      <th></th>\n",
              "      <th></th>\n",
              "      <th></th>\n",
              "      <th></th>\n",
              "      <th></th>\n",
              "      <th></th>\n",
              "      <th></th>\n",
              "      <th></th>\n",
              "      <th></th>\n",
              "    </tr>\n",
              "  </thead>\n",
              "  <tbody>\n",
              "    <tr>\n",
              "      <th>2004-10-08 21:00:00</th>\n",
              "      <td>2004</td>\n",
              "      <td>10</td>\n",
              "      <td>8</td>\n",
              "      <td>21.0</td>\n",
              "      <td>0.0</td>\n",
              "      <td>Fairview</td>\n",
              "      <td>49.265076</td>\n",
              "      <td>-123.118474</td>\n",
              "      <td>0.040765</td>\n",
              "      <td>0.402295</td>\n",
              "      <td>1</td>\n",
              "    </tr>\n",
              "  </tbody>\n",
              "</table>\n",
              "</div>"
            ],
            "text/plain": [
              "                     YEAR  MONTH  DAY  HOUR  MINUTE Neighbourhood   Latitude  \\\n",
              "DateTimeMix                                                                    \n",
              "2004-10-08 21:00:00  2004     10    8  21.0     0.0      Fairview  49.265076   \n",
              "\n",
              "                      Longitude  Graffiti  Drinking_Fountain  Crime  \n",
              "DateTimeMix                                                          \n",
              "2004-10-08 21:00:00 -123.118474  0.040765           0.402295      1  "
            ]
          },
          "execution_count": 3,
          "metadata": {},
          "output_type": "execute_result"
        }
      ],
      "source": [
        "df['Crime'] = 1\n",
        "print(\"Sample row\")\n",
        "df.head(1)"
      ]
    },
    {
      "cell_type": "markdown",
      "metadata": {
        "id": "vFAUf_h9gTkN"
      },
      "source": [
        "##### Import Neighbourhoods and Function to generate co-ordinates in neighbourhood"
      ]
    },
    {
      "cell_type": "code",
      "execution_count": 4,
      "metadata": {
        "colab": {
          "base_uri": "https://localhost:8080/",
          "height": 757
        },
        "id": "N7gqONURRQEA",
        "outputId": "7e3b7ae7-c5fa-41dd-b348-40127b3dfbc4"
      },
      "outputs": [
        {
          "name": "stdout",
          "output_type": "stream",
          "text": [
            "List of Neighbourhoods : \n"
          ]
        },
        {
          "data": {
            "text/html": [
              "<div>\n",
              "<style scoped>\n",
              "    .dataframe tbody tr th:only-of-type {\n",
              "        vertical-align: middle;\n",
              "    }\n",
              "\n",
              "    .dataframe tbody tr th {\n",
              "        vertical-align: top;\n",
              "    }\n",
              "\n",
              "    .dataframe thead th {\n",
              "        text-align: right;\n",
              "    }\n",
              "</style>\n",
              "<table border=\"1\" class=\"dataframe\">\n",
              "  <thead>\n",
              "    <tr style=\"text-align: right;\">\n",
              "      <th></th>\n",
              "      <th>MAPID</th>\n",
              "      <th>NAME</th>\n",
              "      <th>Latitude</th>\n",
              "      <th>Longitude</th>\n",
              "    </tr>\n",
              "  </thead>\n",
              "  <tbody>\n",
              "    <tr>\n",
              "      <th>0</th>\n",
              "      <td>SUN</td>\n",
              "      <td>Sunset</td>\n",
              "      <td>49.218650</td>\n",
              "      <td>-123.091376</td>\n",
              "    </tr>\n",
              "    <tr>\n",
              "      <th>1</th>\n",
              "      <td>MP</td>\n",
              "      <td>Mount Pleasant</td>\n",
              "      <td>49.263060</td>\n",
              "      <td>-123.099888</td>\n",
              "    </tr>\n",
              "    <tr>\n",
              "      <th>2</th>\n",
              "      <td>RP</td>\n",
              "      <td>Riley Park</td>\n",
              "      <td>49.244679</td>\n",
              "      <td>-123.103239</td>\n",
              "    </tr>\n",
              "    <tr>\n",
              "      <th>3</th>\n",
              "      <td>CBD</td>\n",
              "      <td>Downtown</td>\n",
              "      <td>49.279255</td>\n",
              "      <td>-123.119137</td>\n",
              "    </tr>\n",
              "    <tr>\n",
              "      <th>4</th>\n",
              "      <td>KITS</td>\n",
              "      <td>Kitsilano</td>\n",
              "      <td>49.265663</td>\n",
              "      <td>-123.166947</td>\n",
              "    </tr>\n",
              "    <tr>\n",
              "      <th>5</th>\n",
              "      <td>DS</td>\n",
              "      <td>Dunbar-Southlands</td>\n",
              "      <td>49.242361</td>\n",
              "      <td>-123.185280</td>\n",
              "    </tr>\n",
              "    <tr>\n",
              "      <th>6</th>\n",
              "      <td>KERR</td>\n",
              "      <td>Kerrisdale</td>\n",
              "      <td>49.225466</td>\n",
              "      <td>-123.157878</td>\n",
              "    </tr>\n",
              "    <tr>\n",
              "      <th>7</th>\n",
              "      <td>AR</td>\n",
              "      <td>Arbutus-Ridge</td>\n",
              "      <td>49.245938</td>\n",
              "      <td>-123.160737</td>\n",
              "    </tr>\n",
              "    <tr>\n",
              "      <th>8</th>\n",
              "      <td>WPG</td>\n",
              "      <td>West Point Grey</td>\n",
              "      <td>49.265928</td>\n",
              "      <td>-123.202077</td>\n",
              "    </tr>\n",
              "    <tr>\n",
              "      <th>9</th>\n",
              "      <td>MARP</td>\n",
              "      <td>Marpole</td>\n",
              "      <td>49.210702</td>\n",
              "      <td>-123.130159</td>\n",
              "    </tr>\n",
              "    <tr>\n",
              "      <th>10</th>\n",
              "      <td>OAK</td>\n",
              "      <td>Oakridge</td>\n",
              "      <td>49.226350</td>\n",
              "      <td>-123.123689</td>\n",
              "    </tr>\n",
              "    <tr>\n",
              "      <th>11</th>\n",
              "      <td>SHAU</td>\n",
              "      <td>Shaughnessy</td>\n",
              "      <td>49.244443</td>\n",
              "      <td>-123.140041</td>\n",
              "    </tr>\n",
              "    <tr>\n",
              "      <th>12</th>\n",
              "      <td>FAIR</td>\n",
              "      <td>Fairview</td>\n",
              "      <td>49.263421</td>\n",
              "      <td>-123.131514</td>\n",
              "    </tr>\n",
              "    <tr>\n",
              "      <th>13</th>\n",
              "      <td>SC</td>\n",
              "      <td>South Cambie</td>\n",
              "      <td>49.245246</td>\n",
              "      <td>-123.121495</td>\n",
              "    </tr>\n",
              "    <tr>\n",
              "      <th>14</th>\n",
              "      <td>WE</td>\n",
              "      <td>West End</td>\n",
              "      <td>49.285170</td>\n",
              "      <td>-123.134074</td>\n",
              "    </tr>\n",
              "    <tr>\n",
              "      <th>15</th>\n",
              "      <td>KIL</td>\n",
              "      <td>Killarney</td>\n",
              "      <td>49.220042</td>\n",
              "      <td>-123.038120</td>\n",
              "    </tr>\n",
              "    <tr>\n",
              "      <th>16</th>\n",
              "      <td>RC</td>\n",
              "      <td>Renfrew-Collingwood</td>\n",
              "      <td>49.248648</td>\n",
              "      <td>-123.040758</td>\n",
              "    </tr>\n",
              "    <tr>\n",
              "      <th>17</th>\n",
              "      <td>HS</td>\n",
              "      <td>Hastings-Sunrise</td>\n",
              "      <td>49.275951</td>\n",
              "      <td>-123.041252</td>\n",
              "    </tr>\n",
              "    <tr>\n",
              "      <th>18</th>\n",
              "      <td>VF</td>\n",
              "      <td>Victoria-Fraserview</td>\n",
              "      <td>49.220273</td>\n",
              "      <td>-123.063993</td>\n",
              "    </tr>\n",
              "    <tr>\n",
              "      <th>19</th>\n",
              "      <td>KC</td>\n",
              "      <td>Kensington-Cedar Cottage</td>\n",
              "      <td>49.246225</td>\n",
              "      <td>-123.074036</td>\n",
              "    </tr>\n",
              "    <tr>\n",
              "      <th>20</th>\n",
              "      <td>STR</td>\n",
              "      <td>Strathcona</td>\n",
              "      <td>49.273320</td>\n",
              "      <td>-123.089306</td>\n",
              "    </tr>\n",
              "    <tr>\n",
              "      <th>21</th>\n",
              "      <td>GW</td>\n",
              "      <td>Grandview-Woodland</td>\n",
              "      <td>49.274305</td>\n",
              "      <td>-123.067423</td>\n",
              "    </tr>\n",
              "  </tbody>\n",
              "</table>\n",
              "</div>"
            ],
            "text/plain": [
              "   MAPID                      NAME   Latitude   Longitude\n",
              "0    SUN                    Sunset  49.218650 -123.091376\n",
              "1     MP            Mount Pleasant  49.263060 -123.099888\n",
              "2     RP                Riley Park  49.244679 -123.103239\n",
              "3    CBD                  Downtown  49.279255 -123.119137\n",
              "4   KITS                 Kitsilano  49.265663 -123.166947\n",
              "5     DS         Dunbar-Southlands  49.242361 -123.185280\n",
              "6   KERR                Kerrisdale  49.225466 -123.157878\n",
              "7     AR             Arbutus-Ridge  49.245938 -123.160737\n",
              "8    WPG           West Point Grey  49.265928 -123.202077\n",
              "9   MARP                   Marpole  49.210702 -123.130159\n",
              "10   OAK                  Oakridge  49.226350 -123.123689\n",
              "11  SHAU               Shaughnessy  49.244443 -123.140041\n",
              "12  FAIR                  Fairview  49.263421 -123.131514\n",
              "13    SC              South Cambie  49.245246 -123.121495\n",
              "14    WE                  West End  49.285170 -123.134074\n",
              "15   KIL                 Killarney  49.220042 -123.038120\n",
              "16    RC       Renfrew-Collingwood  49.248648 -123.040758\n",
              "17    HS          Hastings-Sunrise  49.275951 -123.041252\n",
              "18    VF       Victoria-Fraserview  49.220273 -123.063993\n",
              "19    KC  Kensington-Cedar Cottage  49.246225 -123.074036\n",
              "20   STR                Strathcona  49.273320 -123.089306\n",
              "21    GW        Grandview-Woodland  49.274305 -123.067423"
            ]
          },
          "execution_count": 4,
          "metadata": {},
          "output_type": "execute_result"
        }
      ],
      "source": [
        "# Import a list of all neighbourhoods and their center co-ordinates in Vancouver\n",
        "\n",
        "nb_file_path = 'https://raw.githubusercontent.com/NasirKhalid24/ELE494-Project/master/Datasets/cov_localareas.csv'\n",
        "\n",
        "neighbourhoods = pd.read_csv(nb_file_path)\n",
        "print(\"List of Neighbourhoods : \")\n",
        "neighbourhoods"
      ]
    },
    {
      "cell_type": "code",
      "execution_count": 5,
      "metadata": {
        "colab": {
          "base_uri": "https://localhost:8080/"
        },
        "id": "KhODlL5aazkp",
        "outputId": "4017a2ab-a8f2-401e-a544-3aa04d13760a"
      },
      "outputs": [
        {
          "data": {
            "text/plain": [
              "(49.264165144524775, -123.1357318429537)"
            ]
          },
          "execution_count": 5,
          "metadata": {},
          "output_type": "execute_result"
        }
      ],
      "source": [
        "# Given a neighbourhood and a radius this code generates a random point in it and returns co-ordinates\n",
        "\n",
        "import random\n",
        "import math\n",
        "\n",
        "def RandomLatLong(nieghbourhood, radius):\n",
        "  \n",
        "  r = radius/111300            \n",
        "  \n",
        "  row = neighbourhoods[neighbourhoods['NAME'] == nieghbourhood]\n",
        "\n",
        "  x0 = float(row['Latitude'])\n",
        "  y0 = float(row['Longitude'])\n",
        "  \n",
        "  u = float(random.uniform(0.0,1.0))\n",
        "  v = float(random.uniform(0.0,1.0))\n",
        "\n",
        "  w = r * math.sqrt(u)\n",
        "  t = 2 * math.pi * v\n",
        "  x = w * math.cos(t) \n",
        "  y = w * math.sin(t)\n",
        "\n",
        "  xLat  = x + x0\n",
        "  yLong = y + y0\n",
        "\n",
        "  return (xLat, yLong)\n",
        "\n",
        "RandomLatLong('Fairview', 500)"
      ]
    },
    {
      "cell_type": "markdown",
      "metadata": {
        "id": "7xfkROGUgc00"
      },
      "source": [
        "##### Import Graffiti and Function to get distance from Graffiti"
      ]
    },
    {
      "cell_type": "code",
      "execution_count": 6,
      "metadata": {
        "colab": {
          "base_uri": "https://localhost:8080/",
          "height": 115
        },
        "id": "BsFdXlRqa1Vi",
        "outputId": "f101711e-019e-47f9-b8b7-7ba42657b5da"
      },
      "outputs": [
        {
          "name": "stdout",
          "output_type": "stream",
          "text": [
            "Number of graffiti instances: (8507, 2)\n",
            "Sample row\n"
          ]
        },
        {
          "data": {
            "text/html": [
              "<div>\n",
              "<style scoped>\n",
              "    .dataframe tbody tr th:only-of-type {\n",
              "        vertical-align: middle;\n",
              "    }\n",
              "\n",
              "    .dataframe tbody tr th {\n",
              "        vertical-align: top;\n",
              "    }\n",
              "\n",
              "    .dataframe thead th {\n",
              "        text-align: right;\n",
              "    }\n",
              "</style>\n",
              "<table border=\"1\" class=\"dataframe\">\n",
              "  <thead>\n",
              "    <tr style=\"text-align: right;\">\n",
              "      <th></th>\n",
              "      <th>Latitude</th>\n",
              "      <th>Longitude</th>\n",
              "    </tr>\n",
              "  </thead>\n",
              "  <tbody>\n",
              "    <tr>\n",
              "      <th>0</th>\n",
              "      <td>49.22386</td>\n",
              "      <td>-123.090426</td>\n",
              "    </tr>\n",
              "  </tbody>\n",
              "</table>\n",
              "</div>"
            ],
            "text/plain": [
              "   Latitude   Longitude\n",
              "0  49.22386 -123.090426"
            ]
          },
          "execution_count": 6,
          "metadata": {},
          "output_type": "execute_result"
        }
      ],
      "source": [
        "# Import a list of all graffiti locations\n",
        "\n",
        "gr_file_path = 'https://raw.githubusercontent.com/NasirKhalid24/ELE494-Project/master/Datasets/Graffiti.csv'\n",
        "\n",
        "graffiti = pd.read_csv(gr_file_path)\n",
        "print(\"Number of graffiti instances: \" + str(graffiti.shape))\n",
        "print(\"Sample row\")\n",
        "graffiti.head(1)"
      ]
    },
    {
      "cell_type": "code",
      "execution_count": 7,
      "metadata": {
        "colab": {
          "base_uri": "https://localhost:8080/"
        },
        "id": "RvEYKwZrci4x",
        "outputId": "79eeca38-74a8-47eb-82d5-66e8b4420197"
      },
      "outputs": [
        {
          "name": "stdout",
          "output_type": "stream",
          "text": [
            "Sample row\n",
            "   Latitude  Longitude\n",
            "0  0.859118  -2.148333\n"
          ]
        }
      ],
      "source": [
        "# Convert all coordinates to radians for easier calculations later\n",
        "graffiti = graffiti.apply(np.radians)\n",
        "print(\"Sample row\")\n",
        "print(graffiti.head(1))\n",
        "graffiti = graffiti.values"
      ]
    },
    {
      "cell_type": "code",
      "execution_count": 8,
      "metadata": {
        "colab": {
          "base_uri": "https://localhost:8080/"
        },
        "id": "Ax6HM8uAbfC9",
        "outputId": "ebfbed3e-bdb3-4aae-902a-1684afbea57a"
      },
      "outputs": [
        {
          "data": {
            "text/plain": [
              "0.040765350813073524"
            ]
          },
          "execution_count": 8,
          "metadata": {},
          "output_type": "execute_result"
        }
      ],
      "source": [
        "def DistanceToGraffiti(lat1, lon1):\n",
        "    r = 6371 # Radius of earth in kilometers\n",
        "    \n",
        "    coordinates = np.array([np.radians(lat1), np.radians(lon1)])\n",
        "    diff_array = graffiti - coordinates\n",
        "    \n",
        "    # Applying the haversine formula as array functions for speed\n",
        "    a = np.square(np.sin(diff_array[:, 0]/2.0)) + np.cos(coordinates[0]) * np.cos(graffiti[:, 0]) * np.square(np.sin(diff_array[:, 1]/2.0))\n",
        "    c = 2 * np.arcsin(np.sqrt(a)) \n",
        "    return np.amin(c)*r\n",
        "with open('DistanceToGraffiti.pkl', 'wb') as file:\n",
        "    pickle.dump(DistanceToGraffiti, file)\n",
        "DistanceToGraffiti(49.2650765,-123.1184743)"
      ]
    },
    {
      "cell_type": "markdown",
      "metadata": {
        "id": "4noydWb5gh_I"
      },
      "source": [
        "##### Import Drinking fountain and Function to get distance from Drinking fountain"
      ]
    },
    {
      "cell_type": "code",
      "execution_count": 9,
      "metadata": {
        "colab": {
          "base_uri": "https://localhost:8080/",
          "height": 115
        },
        "id": "lASPMY7ofdla",
        "outputId": "6c3a5fe6-dcfc-4cb4-d872-0be40f81706f"
      },
      "outputs": [
        {
          "name": "stdout",
          "output_type": "stream",
          "text": [
            "Number of drinking fountains: (240, 2)\n",
            "Sample row\n"
          ]
        },
        {
          "data": {
            "text/html": [
              "<div>\n",
              "<style scoped>\n",
              "    .dataframe tbody tr th:only-of-type {\n",
              "        vertical-align: middle;\n",
              "    }\n",
              "\n",
              "    .dataframe tbody tr th {\n",
              "        vertical-align: top;\n",
              "    }\n",
              "\n",
              "    .dataframe thead th {\n",
              "        text-align: right;\n",
              "    }\n",
              "</style>\n",
              "<table border=\"1\" class=\"dataframe\">\n",
              "  <thead>\n",
              "    <tr style=\"text-align: right;\">\n",
              "      <th></th>\n",
              "      <th>LATITUDE</th>\n",
              "      <th>LONGITUDE</th>\n",
              "    </tr>\n",
              "  </thead>\n",
              "  <tbody>\n",
              "    <tr>\n",
              "      <th>0</th>\n",
              "      <td>49.234947</td>\n",
              "      <td>-123.027254</td>\n",
              "    </tr>\n",
              "  </tbody>\n",
              "</table>\n",
              "</div>"
            ],
            "text/plain": [
              "    LATITUDE   LONGITUDE\n",
              "0  49.234947 -123.027254"
            ]
          },
          "execution_count": 9,
          "metadata": {},
          "output_type": "execute_result"
        }
      ],
      "source": [
        "# Import a list of all drinking fountain locations\n",
        "\n",
        "df_file_path = 'https://raw.githubusercontent.com/NasirKhalid24/ELE494-Project/master/Datasets/drinking_fountains.csv'\n",
        "\n",
        "drinking = pd.read_csv(df_file_path)\n",
        "drinking = drinking[['LATITUDE', 'LONGITUDE']]\n",
        "print(\"Number of drinking fountains: \" + str(drinking.shape))\n",
        "print(\"Sample row\")\n",
        "drinking.head(1)"
      ]
    },
    {
      "cell_type": "code",
      "execution_count": 10,
      "metadata": {
        "colab": {
          "base_uri": "https://localhost:8080/"
        },
        "id": "CF92ly20f-xW",
        "outputId": "1711367d-54c7-4ab4-8114-0a1c5eb10ff0"
      },
      "outputs": [
        {
          "name": "stdout",
          "output_type": "stream",
          "text": [
            "Sample row\n",
            "   LATITUDE  LONGITUDE\n",
            "0  0.859312  -2.147231\n"
          ]
        }
      ],
      "source": [
        "# Convert all coordinates to radians for easier calculations later\n",
        "drinking = drinking.apply(np.radians)\n",
        "print(\"Sample row\")\n",
        "print(drinking.head(1))\n",
        "drinking = drinking.values"
      ]
    },
    {
      "cell_type": "code",
      "execution_count": 11,
      "metadata": {
        "colab": {
          "base_uri": "https://localhost:8080/"
        },
        "id": "d1XBMQ_YgC0e",
        "outputId": "ef4d32a9-e381-4cb9-ee36-1a88c6a1c63c"
      },
      "outputs": [
        {
          "data": {
            "text/plain": [
              "0.40229507588315133"
            ]
          },
          "execution_count": 11,
          "metadata": {},
          "output_type": "execute_result"
        }
      ],
      "source": [
        "def DistanceToFountain(lat1, lon1):\n",
        "    r = 6371 # Radius of earth in kilometers\n",
        "    \n",
        "    coordinates = np.array([np.radians(lat1), np.radians(lon1)])\n",
        "    diff_array = drinking - coordinates\n",
        "    \n",
        "    # Applying the haversine formula as array functions for speed\n",
        "    a = np.square(np.sin(diff_array[:, 0]/2.0)) + np.cos(coordinates[0]) * np.cos(drinking[:, 0]) * np.square(np.sin(diff_array[:, 1]/2.0))\n",
        "    c = 2 * np.arcsin(np.sqrt(a)) \n",
        "    return np.amin(c)*r\n",
        "with open('DistanceToFountain.pkl', 'wb') as file:\n",
        "    pickle.dump(DistanceToFountain, file)\n",
        "DistanceToFountain(49.2650765,-123.1184743)"
      ]
    },
    {
      "cell_type": "markdown",
      "metadata": {
        "id": "RIFWP5OHyHRO"
      },
      "source": [
        "#### Upsample every 30 minute and add data points"
      ]
    },
    {
      "cell_type": "code",
      "execution_count": 12,
      "metadata": {
        "id": "N569yqfLyGp7"
      },
      "outputs": [],
      "source": [
        "import random\n",
        "\n",
        "df_extra = df.groupby(level=0).count().resample('30min').asfreq()\n",
        "df_extra = df_extra[pd.isna((df_extra['HOUR']))]\n",
        "\n",
        "df_extra['Crime'] = 0\n",
        "df_extra['YEAR'] = df_extra.index.year\n",
        "df_extra['MONTH'] = df_extra.index.month\n",
        "df_extra['DAY'] = df_extra.index.day\n",
        "df_extra['HOUR'] = df_extra.index.hour\n",
        "df_extra['MINUTE'] = df_extra.index.minute\n",
        "df_extra['Neighbourhood'] = [neighbourhoods.sample()['NAME'].values[0] for i in range(0,df_extra.values.shape[0])]\n",
        "df_extra[['Latitude', 'Longitude']] = df_extra['Neighbourhood'].apply(lambda x: RandomLatLong(x, 500)).apply(pd.Series)\n",
        "df_extra['Graffiti'] = df_extra.apply(lambda x: DistanceToGraffiti(x['Latitude'], x['Longitude']), axis=1)\n",
        "df_extra['Drinking_Fountain'] = df_extra.apply(lambda x: DistanceToFountain(x['Latitude'], x['Longitude']), axis=1)"
      ]
    },
    {
      "cell_type": "code",
      "execution_count": 13,
      "metadata": {
        "colab": {
          "base_uri": "https://localhost:8080/",
          "height": 319
        },
        "id": "hSVziaPtz3XQ",
        "outputId": "4e3536d6-1ae1-40b6-f928-76064fa072ef"
      },
      "outputs": [
        {
          "data": {
            "text/html": [
              "<div>\n",
              "<style scoped>\n",
              "    .dataframe tbody tr th:only-of-type {\n",
              "        vertical-align: middle;\n",
              "    }\n",
              "\n",
              "    .dataframe tbody tr th {\n",
              "        vertical-align: top;\n",
              "    }\n",
              "\n",
              "    .dataframe thead th {\n",
              "        text-align: right;\n",
              "    }\n",
              "</style>\n",
              "<table border=\"1\" class=\"dataframe\">\n",
              "  <thead>\n",
              "    <tr style=\"text-align: right;\">\n",
              "      <th></th>\n",
              "      <th>YEAR</th>\n",
              "      <th>MONTH</th>\n",
              "      <th>DAY</th>\n",
              "      <th>HOUR</th>\n",
              "      <th>MINUTE</th>\n",
              "      <th>Neighbourhood</th>\n",
              "      <th>Latitude</th>\n",
              "      <th>Longitude</th>\n",
              "      <th>Graffiti</th>\n",
              "      <th>Drinking_Fountain</th>\n",
              "      <th>Crime</th>\n",
              "    </tr>\n",
              "    <tr>\n",
              "      <th>DateTimeMix</th>\n",
              "      <th></th>\n",
              "      <th></th>\n",
              "      <th></th>\n",
              "      <th></th>\n",
              "      <th></th>\n",
              "      <th></th>\n",
              "      <th></th>\n",
              "      <th></th>\n",
              "      <th></th>\n",
              "      <th></th>\n",
              "      <th></th>\n",
              "    </tr>\n",
              "  </thead>\n",
              "  <tbody>\n",
              "    <tr>\n",
              "      <th>2004-01-01 00:30:00</th>\n",
              "      <td>2004</td>\n",
              "      <td>1</td>\n",
              "      <td>1</td>\n",
              "      <td>0</td>\n",
              "      <td>30</td>\n",
              "      <td>Killarney</td>\n",
              "      <td>49.216819</td>\n",
              "      <td>-123.041007</td>\n",
              "      <td>0.259316</td>\n",
              "      <td>0.621049</td>\n",
              "      <td>0</td>\n",
              "    </tr>\n",
              "    <tr>\n",
              "      <th>2004-01-01 01:30:00</th>\n",
              "      <td>2004</td>\n",
              "      <td>1</td>\n",
              "      <td>1</td>\n",
              "      <td>1</td>\n",
              "      <td>30</td>\n",
              "      <td>Victoria-Fraserview</td>\n",
              "      <td>49.222982</td>\n",
              "      <td>-123.063681</td>\n",
              "      <td>0.178694</td>\n",
              "      <td>0.766635</td>\n",
              "      <td>0</td>\n",
              "    </tr>\n",
              "    <tr>\n",
              "      <th>2004-01-01 02:00:00</th>\n",
              "      <td>2004</td>\n",
              "      <td>1</td>\n",
              "      <td>1</td>\n",
              "      <td>2</td>\n",
              "      <td>0</td>\n",
              "      <td>Kensington-Cedar Cottage</td>\n",
              "      <td>49.246298</td>\n",
              "      <td>-123.072160</td>\n",
              "      <td>0.162834</td>\n",
              "      <td>0.209467</td>\n",
              "      <td>0</td>\n",
              "    </tr>\n",
              "    <tr>\n",
              "      <th>2004-01-01 02:30:00</th>\n",
              "      <td>2004</td>\n",
              "      <td>1</td>\n",
              "      <td>1</td>\n",
              "      <td>2</td>\n",
              "      <td>30</td>\n",
              "      <td>Sunset</td>\n",
              "      <td>49.221364</td>\n",
              "      <td>-123.090929</td>\n",
              "      <td>0.083349</td>\n",
              "      <td>0.435824</td>\n",
              "      <td>0</td>\n",
              "    </tr>\n",
              "  </tbody>\n",
              "</table>\n",
              "</div>"
            ],
            "text/plain": [
              "                     YEAR  MONTH  DAY  HOUR  MINUTE             Neighbourhood  \\\n",
              "DateTimeMix                                                                     \n",
              "2004-01-01 00:30:00  2004      1    1     0      30                 Killarney   \n",
              "2004-01-01 01:30:00  2004      1    1     1      30       Victoria-Fraserview   \n",
              "2004-01-01 02:00:00  2004      1    1     2       0  Kensington-Cedar Cottage   \n",
              "2004-01-01 02:30:00  2004      1    1     2      30                    Sunset   \n",
              "\n",
              "                      Latitude   Longitude  Graffiti  Drinking_Fountain  Crime  \n",
              "DateTimeMix                                                                     \n",
              "2004-01-01 00:30:00  49.216819 -123.041007  0.259316           0.621049      0  \n",
              "2004-01-01 01:30:00  49.222982 -123.063681  0.178694           0.766635      0  \n",
              "2004-01-01 02:00:00  49.246298 -123.072160  0.162834           0.209467      0  \n",
              "2004-01-01 02:30:00  49.221364 -123.090929  0.083349           0.435824      0  "
            ]
          },
          "execution_count": 13,
          "metadata": {},
          "output_type": "execute_result"
        }
      ],
      "source": [
        "df_extra.head(4)"
      ]
    },
    {
      "cell_type": "code",
      "execution_count": 14,
      "metadata": {
        "colab": {
          "base_uri": "https://localhost:8080/"
        },
        "id": "qn0pA4ul6hD5",
        "outputId": "23f639b4-dd84-48b2-c93f-013f137dce04"
      },
      "outputs": [
        {
          "name": "stdout",
          "output_type": "stream",
          "text": [
            "Shape of Original Dataset: (428141, 11)\n",
            "\n",
            "Shape of Upsampled Dataset with No crime values: (542276, 11)\n",
            "\n"
          ]
        },
        {
          "name": "stderr",
          "output_type": "stream",
          "text": [
            "/tmp/ipykernel_6402/4058691887.py:3: FutureWarning: The frame.append method is deprecated and will be removed from pandas in a future version. Use pandas.concat instead.\n",
            "  df = df.append(df_extra)\n"
          ]
        }
      ],
      "source": [
        "print(\"Shape of Original Dataset: \" + str(df.shape) + \"\\n\")\n",
        "\n",
        "df = df.append(df_extra)\n",
        "\n",
        "print(\"Shape of Upsampled Dataset with No crime values: \" + str(df.shape) + \"\\n\")"
      ]
    },
    {
      "cell_type": "markdown",
      "metadata": {
        "id": "vqaiTSXa7dix"
      },
      "source": [
        "#### Extract network input and output and make sets"
      ]
    },
    {
      "cell_type": "code",
      "execution_count": 15,
      "metadata": {
        "id": "i__0LvQX7gxq"
      },
      "outputs": [],
      "source": [
        "Y = df['Crime'].values\n",
        "X = df[['YEAR','MONTH','DAY','HOUR', 'MINUTE', 'Latitude', 'Longitude', 'Graffiti', 'Drinking_Fountain']].values"
      ]
    },
    {
      "cell_type": "code",
      "execution_count": 16,
      "metadata": {
        "colab": {
          "base_uri": "https://localhost:8080/"
        },
        "id": "XCX2i1ShfQb0",
        "outputId": "f704e0e9-e43d-452b-d419-b7ba14533e0d"
      },
      "outputs": [
        {
          "data": {
            "text/plain": [
              "array([ 2.00400000e+03,  1.00000000e+01,  8.00000000e+00,  2.10000000e+01,\n",
              "        0.00000000e+00,  4.92650765e+01, -1.23118474e+02,  4.07653508e-02,\n",
              "        4.02295076e-01])"
            ]
          },
          "execution_count": 16,
          "metadata": {},
          "output_type": "execute_result"
        }
      ],
      "source": [
        "X[0]"
      ]
    },
    {
      "cell_type": "code",
      "execution_count": 17,
      "metadata": {
        "colab": {
          "base_uri": "https://localhost:8080/"
        },
        "id": "OgcTRTUhfSEz",
        "outputId": "0788fa40-da23-48a9-ac0c-34780bddc03f"
      },
      "outputs": [
        {
          "data": {
            "text/plain": [
              "1"
            ]
          },
          "execution_count": 17,
          "metadata": {},
          "output_type": "execute_result"
        }
      ],
      "source": [
        "Y[0]"
      ]
    },
    {
      "cell_type": "code",
      "execution_count": 18,
      "metadata": {
        "colab": {
          "base_uri": "https://localhost:8080/"
        },
        "id": "WYwmseUiEg2D",
        "outputId": "8cb3d680-8e87-47e3-9740-22dffdc2e3f7"
      },
      "outputs": [
        {
          "name": "stdout",
          "output_type": "stream",
          "text": [
            "[0.         0.81818182 0.23333333 0.91304348 0.         0.57072995\n",
            " 0.52565412 0.01773122 0.17916438]\n"
          ]
        }
      ],
      "source": [
        "from sklearn.preprocessing import MinMaxScaler\n",
        "\n",
        "scaler = MinMaxScaler()\n",
        "\n",
        "scaler.fit(X)\n",
        "X = scaler.transform(X)\n",
        "with open(\"scaler.pkl\", \"wb\") as file:\n",
        "    pickle.dump(scaler, file)\n",
        "print(X[0])"
      ]
    },
    {
      "cell_type": "code",
      "execution_count": 19,
      "metadata": {
        "colab": {
          "base_uri": "https://localhost:8080/"
        },
        "id": "QI7h8QVa7uex",
        "outputId": "3634b425-90b7-4912-ad7a-bff0b9ce1fc4"
      },
      "outputs": [
        {
          "name": "stdout",
          "output_type": "stream",
          "text": [
            "Training Data Size: (363324, 9)\n",
            "Testing Data Size:(178952, 9)\n",
            "Training Label Size: (363324,)\n",
            "Testing Label Size: (178952,)\n"
          ]
        }
      ],
      "source": [
        "from sklearn.model_selection import train_test_split\n",
        "\n",
        "X_train, X_test, Y_train, Y_test = train_test_split(X, Y, test_size=0.33, random_state=42)\n",
        "\n",
        "print(\"Training Data Size: \" + str(X_train.shape))\n",
        "print(\"Testing Data Size:\" + str(X_test.shape))\n",
        "print(\"Training Label Size: \" + str(Y_train.shape))\n",
        "print(\"Testing Label Size: \" + str(Y_test.shape))"
      ]
    },
    {
      "cell_type": "code",
      "execution_count": 20,
      "metadata": {
        "id": "lGluk-J68FwR"
      },
      "outputs": [],
      "source": [
        "import matplotlib.pyplot as plt\n",
        "import numpy as np\n",
        "\n",
        "# Function to plot loss and accuracy vs epochs\n",
        "def loss_curve(history):\n",
        "  train_loss = history.history['loss']\n",
        "  val_loss = history.history['val_loss']\n",
        "  x_axis     = range(1, len(history.history['loss'])+1)\n",
        "  \n",
        "  plt.figure()\n",
        "  plt.plot(x_axis, train_loss, label=\"Training Loss\")\n",
        "  plt.plot(x_axis, val_loss, label=\"Validation Loss\")\n",
        "  plt.ylabel('Loss Value')\n",
        "  plt.xlabel('Epochs')\n",
        "  plt.title('Epochs vs Loss')\n",
        "  plt.legend()\n",
        "  \n",
        "def accuracy(history):\n",
        "  acc  = history.history['accuracy']\n",
        "  val_acc = history.history['val_accuracy']\n",
        "  x_axis     = range(1, len(history.history['accuracy'])+1)\n",
        "  \n",
        "  plt.figure()\n",
        "  plt.plot(x_axis, np.dot(acc,100), label=\"Accuracy\")\n",
        "  plt.plot(x_axis, np.dot(val_acc, 100), label=\"Validation Accuracy\")\n",
        "  plt.ylabel('Accuracy')\n",
        "  plt.xlabel('Epochs')\n",
        "  plt.title('Epochs vs Accuracy')\n",
        "  plt.legend()"
      ]
    },
    {
      "cell_type": "markdown",
      "metadata": {
        "id": "MO3HiFRD8KPn"
      },
      "source": [
        "#### Training Network"
      ]
    },
    {
      "cell_type": "code",
      "execution_count": 21,
      "metadata": {
        "colab": {
          "base_uri": "https://localhost:8080/"
        },
        "id": "ueaauFB08Ms7",
        "outputId": "f0a13397-bb01-4825-cbdd-848b30c09fda"
      },
      "outputs": [
        {
          "name": "stderr",
          "output_type": "stream",
          "text": [
            "2023-01-31 16:06:47.145577: I tensorflow/core/platform/cpu_feature_guard.cc:193] This TensorFlow binary is optimized with oneAPI Deep Neural Network Library (oneDNN) to use the following CPU instructions in performance-critical operations:  AVX2 FMA\n",
            "To enable them in other operations, rebuild TensorFlow with the appropriate compiler flags.\n",
            "2023-01-31 16:06:47.533210: W tensorflow/compiler/xla/stream_executor/platform/default/dso_loader.cc:64] Could not load dynamic library 'libcudart.so.11.0'; dlerror: libcudart.so.11.0: cannot open shared object file: No such file or directory\n",
            "2023-01-31 16:06:47.533263: I tensorflow/compiler/xla/stream_executor/cuda/cudart_stub.cc:29] Ignore above cudart dlerror if you do not have a GPU set up on your machine.\n",
            "2023-01-31 16:06:48.889271: W tensorflow/compiler/xla/stream_executor/platform/default/dso_loader.cc:64] Could not load dynamic library 'libnvinfer.so.7'; dlerror: libnvinfer.so.7: cannot open shared object file: No such file or directory\n",
            "2023-01-31 16:06:48.889455: W tensorflow/compiler/xla/stream_executor/platform/default/dso_loader.cc:64] Could not load dynamic library 'libnvinfer_plugin.so.7'; dlerror: libnvinfer_plugin.so.7: cannot open shared object file: No such file or directory\n",
            "2023-01-31 16:06:48.889476: W tensorflow/compiler/tf2tensorrt/utils/py_utils.cc:38] TF-TRT Warning: Cannot dlopen some TensorRT libraries. If you would like to use Nvidia GPU with TensorRT, please make sure the missing libraries mentioned above are installed properly.\n",
            "2023-01-31 16:06:50.338608: E tensorflow/compiler/xla/stream_executor/cuda/cuda_driver.cc:267] failed call to cuInit: CUDA_ERROR_NO_DEVICE: no CUDA-capable device is detected\n",
            "2023-01-31 16:06:50.338661: I tensorflow/compiler/xla/stream_executor/cuda/cuda_diagnostics.cc:156] kernel driver does not appear to be running on this host (lokesh): /proc/driver/nvidia/version does not exist\n",
            "2023-01-31 16:06:50.339162: I tensorflow/core/platform/cpu_feature_guard.cc:193] This TensorFlow binary is optimized with oneAPI Deep Neural Network Library (oneDNN) to use the following CPU instructions in performance-critical operations:  AVX2 FMA\n",
            "To enable them in other operations, rebuild TensorFlow with the appropriate compiler flags.\n"
          ]
        },
        {
          "name": "stdout",
          "output_type": "stream",
          "text": [
            "Model: \"sequential\"\n",
            "_________________________________________________________________\n",
            " Layer (type)                Output Shape              Param #   \n",
            "=================================================================\n",
            " dense (Dense)               (None, 64)                640       \n",
            "                                                                 \n",
            " dense_1 (Dense)             (None, 128)               8320      \n",
            "                                                                 \n",
            " dense_2 (Dense)             (None, 512)               66048     \n",
            "                                                                 \n",
            " dense_3 (Dense)             (None, 128)               65664     \n",
            "                                                                 \n",
            " dense_4 (Dense)             (None, 64)                8256      \n",
            "                                                                 \n",
            " dense_5 (Dense)             (None, 1)                 65        \n",
            "                                                                 \n",
            "=================================================================\n",
            "Total params: 148,993\n",
            "Trainable params: 148,993\n",
            "Non-trainable params: 0\n",
            "_________________________________________________________________\n"
          ]
        }
      ],
      "source": [
        "from keras.layers import Dense, Dropout\n",
        "from keras.models import Sequential\n",
        "\n",
        "model = Sequential()\n",
        "\n",
        "model.add(Dense(64, activation='sigmoid', input_shape=(X_train.shape[1], ) ) )\n",
        "model.add(Dense(128, activation='sigmoid') )\n",
        "model.add(Dense(512, activation='sigmoid') )\n",
        "model.add(Dense(128, activation='sigmoid') )\n",
        "model.add(Dense(64, activation='sigmoid') )\n",
        "\n",
        "\n",
        "model.add(Dense(1, activation='sigmoid') )\n",
        "\n",
        "model.compile(optimizer='rmsprop',\n",
        "                loss='binary_crossentropy',\n",
        "                metrics=['accuracy'])\n",
        "\n",
        "model.summary()"
      ]
    },
    {
      "cell_type": "code",
      "execution_count": 22,
      "metadata": {
        "colab": {
          "base_uri": "https://localhost:8080/"
        },
        "id": "Nl9D9mWJ8VkX",
        "outputId": "7f03547a-7572-4365-e858-310f15901e3f"
      },
      "outputs": [
        {
          "name": "stdout",
          "output_type": "stream",
          "text": [
            "Epoch 1/50\n",
            "2555/2555 [==============================] - 30s 11ms/step - loss: 0.5155 - accuracy: 0.7895 - val_loss: 0.5128 - val_accuracy: 0.7910\n",
            "Epoch 2/50\n",
            "2555/2555 [==============================] - 25s 10ms/step - loss: 0.5150 - accuracy: 0.7895 - val_loss: 0.5127 - val_accuracy: 0.7910\n",
            "Epoch 3/50\n",
            "2555/2555 [==============================] - 26s 10ms/step - loss: 0.5150 - accuracy: 0.7895 - val_loss: 0.5126 - val_accuracy: 0.7910\n",
            "Epoch 4/50\n",
            "2555/2555 [==============================] - 24s 10ms/step - loss: 0.5150 - accuracy: 0.7895 - val_loss: 0.5127 - val_accuracy: 0.7910\n",
            "Epoch 5/50\n",
            "2555/2555 [==============================] - 23s 9ms/step - loss: 0.5150 - accuracy: 0.7895 - val_loss: 0.5127 - val_accuracy: 0.7910\n",
            "Epoch 6/50\n",
            "2555/2555 [==============================] - 23s 9ms/step - loss: 0.5149 - accuracy: 0.7895 - val_loss: 0.5126 - val_accuracy: 0.7910\n",
            "Epoch 7/50\n",
            "2555/2555 [==============================] - 23s 9ms/step - loss: 0.5149 - accuracy: 0.7895 - val_loss: 0.5126 - val_accuracy: 0.7910\n",
            "Epoch 8/50\n",
            "2555/2555 [==============================] - 23s 9ms/step - loss: 0.5149 - accuracy: 0.7895 - val_loss: 0.5135 - val_accuracy: 0.7910\n",
            "Epoch 9/50\n",
            "2555/2555 [==============================] - 23s 9ms/step - loss: 0.4953 - accuracy: 0.7897 - val_loss: 0.4414 - val_accuracy: 0.7903\n",
            "Epoch 10/50\n",
            "2555/2555 [==============================] - 23s 9ms/step - loss: 0.4469 - accuracy: 0.7934 - val_loss: 0.4402 - val_accuracy: 0.7988\n",
            "Epoch 11/50\n",
            "2555/2555 [==============================] - 23s 9ms/step - loss: 0.4447 - accuracy: 0.7947 - val_loss: 0.4383 - val_accuracy: 0.7979\n",
            "Epoch 12/50\n",
            "2555/2555 [==============================] - 23s 9ms/step - loss: 0.4439 - accuracy: 0.7954 - val_loss: 0.4383 - val_accuracy: 0.7989\n",
            "Epoch 13/50\n",
            "2555/2555 [==============================] - 23s 9ms/step - loss: 0.4435 - accuracy: 0.7955 - val_loss: 0.4383 - val_accuracy: 0.7983\n",
            "Epoch 14/50\n",
            "2555/2555 [==============================] - 23s 9ms/step - loss: 0.4430 - accuracy: 0.7957 - val_loss: 0.4380 - val_accuracy: 0.7988\n",
            "Epoch 15/50\n",
            "2555/2555 [==============================] - 23s 9ms/step - loss: 0.4424 - accuracy: 0.7960 - val_loss: 0.4367 - val_accuracy: 0.7991\n",
            "Epoch 16/50\n",
            "2555/2555 [==============================] - 23s 9ms/step - loss: 0.4407 - accuracy: 0.7967 - val_loss: 0.4348 - val_accuracy: 0.7985\n",
            "Epoch 17/50\n",
            "2555/2555 [==============================] - 23s 9ms/step - loss: 0.4365 - accuracy: 0.7982 - val_loss: 0.4284 - val_accuracy: 0.8017\n",
            "Epoch 18/50\n",
            "2555/2555 [==============================] - 23s 9ms/step - loss: 0.4293 - accuracy: 0.8003 - val_loss: 0.4245 - val_accuracy: 0.7988\n",
            "Epoch 19/50\n",
            "2555/2555 [==============================] - 23s 9ms/step - loss: 0.4207 - accuracy: 0.8022 - val_loss: 0.4094 - val_accuracy: 0.8089\n",
            "Epoch 20/50\n",
            "2555/2555 [==============================] - 23s 9ms/step - loss: 0.4107 - accuracy: 0.8080 - val_loss: 0.4018 - val_accuracy: 0.8151\n",
            "Epoch 21/50\n",
            "2555/2555 [==============================] - 23s 9ms/step - loss: 0.3986 - accuracy: 0.8168 - val_loss: 0.3933 - val_accuracy: 0.8192\n",
            "Epoch 22/50\n",
            "2555/2555 [==============================] - 23s 9ms/step - loss: 0.3905 - accuracy: 0.8204 - val_loss: 0.3708 - val_accuracy: 0.8301\n",
            "Epoch 23/50\n",
            "2555/2555 [==============================] - 23s 9ms/step - loss: 0.3696 - accuracy: 0.8240 - val_loss: 0.3965 - val_accuracy: 0.8269\n",
            "Epoch 24/50\n",
            "2555/2555 [==============================] - 79s 31ms/step - loss: 0.3339 - accuracy: 0.8388 - val_loss: 0.3144 - val_accuracy: 0.8486\n",
            "Epoch 25/50\n",
            "2555/2555 [==============================] - 31s 12ms/step - loss: 0.3184 - accuracy: 0.8491 - val_loss: 0.3072 - val_accuracy: 0.8517\n",
            "Epoch 26/50\n",
            "2555/2555 [==============================] - 33s 13ms/step - loss: 0.3116 - accuracy: 0.8535 - val_loss: 0.2933 - val_accuracy: 0.8645\n",
            "Epoch 27/50\n",
            "2555/2555 [==============================] - 32s 13ms/step - loss: 0.3068 - accuracy: 0.8563 - val_loss: 0.2895 - val_accuracy: 0.8655\n",
            "Epoch 28/50\n",
            "2555/2555 [==============================] - 33s 13ms/step - loss: 0.3035 - accuracy: 0.8574 - val_loss: 0.2930 - val_accuracy: 0.8650\n",
            "Epoch 29/50\n",
            "2555/2555 [==============================] - 43s 17ms/step - loss: 0.3013 - accuracy: 0.8585 - val_loss: 0.2924 - val_accuracy: 0.8616\n",
            "Epoch 30/50\n",
            "2555/2555 [==============================] - 37s 15ms/step - loss: 0.3002 - accuracy: 0.8595 - val_loss: 0.3032 - val_accuracy: 0.8580\n",
            "Epoch 31/50\n",
            "2555/2555 [==============================] - 37s 14ms/step - loss: 0.2991 - accuracy: 0.8602 - val_loss: 0.2913 - val_accuracy: 0.8640\n",
            "Epoch 32/50\n",
            "2555/2555 [==============================] - 31s 12ms/step - loss: 0.2982 - accuracy: 0.8613 - val_loss: 0.2908 - val_accuracy: 0.8632\n",
            "Epoch 33/50\n",
            "2555/2555 [==============================] - 32s 13ms/step - loss: 0.2975 - accuracy: 0.8609 - val_loss: 0.3069 - val_accuracy: 0.8486\n",
            "Epoch 34/50\n",
            "2555/2555 [==============================] - 29s 11ms/step - loss: 0.2965 - accuracy: 0.8617 - val_loss: 0.3151 - val_accuracy: 0.8548\n",
            "Epoch 35/50\n",
            "2555/2555 [==============================] - 32s 13ms/step - loss: 0.2964 - accuracy: 0.8619 - val_loss: 0.2883 - val_accuracy: 0.8652\n",
            "Epoch 36/50\n",
            "2555/2555 [==============================] - 30s 12ms/step - loss: 0.2957 - accuracy: 0.8625 - val_loss: 0.2999 - val_accuracy: 0.8594\n",
            "Epoch 37/50\n",
            "2555/2555 [==============================] - 30s 12ms/step - loss: 0.2951 - accuracy: 0.8624 - val_loss: 0.2856 - val_accuracy: 0.8653\n",
            "Epoch 38/50\n",
            "2555/2555 [==============================] - 27s 11ms/step - loss: 0.2944 - accuracy: 0.8634 - val_loss: 0.2868 - val_accuracy: 0.8681\n",
            "Epoch 39/50\n",
            "2555/2555 [==============================] - 30s 12ms/step - loss: 0.2937 - accuracy: 0.8634 - val_loss: 0.2929 - val_accuracy: 0.8646\n",
            "Epoch 40/50\n",
            "2555/2555 [==============================] - 27s 11ms/step - loss: 0.2934 - accuracy: 0.8641 - val_loss: 0.2903 - val_accuracy: 0.8670\n",
            "Epoch 41/50\n",
            "2555/2555 [==============================] - 30s 12ms/step - loss: 0.2922 - accuracy: 0.8646 - val_loss: 0.2822 - val_accuracy: 0.8694\n",
            "Epoch 42/50\n",
            "2555/2555 [==============================] - 25s 10ms/step - loss: 0.2909 - accuracy: 0.8652 - val_loss: 0.2822 - val_accuracy: 0.8679\n",
            "Epoch 43/50\n",
            "2555/2555 [==============================] - 23s 9ms/step - loss: 0.2898 - accuracy: 0.8658 - val_loss: 0.2816 - val_accuracy: 0.8682\n",
            "Epoch 44/50\n",
            "2555/2555 [==============================] - 26s 10ms/step - loss: 0.2887 - accuracy: 0.8658 - val_loss: 0.2801 - val_accuracy: 0.8694\n",
            "Epoch 45/50\n",
            "2555/2555 [==============================] - 31s 12ms/step - loss: 0.2883 - accuracy: 0.8663 - val_loss: 0.2839 - val_accuracy: 0.8681\n",
            "Epoch 46/50\n",
            "2555/2555 [==============================] - 25s 10ms/step - loss: 0.2877 - accuracy: 0.8669 - val_loss: 0.2923 - val_accuracy: 0.8610\n",
            "Epoch 47/50\n",
            "2555/2555 [==============================] - 31s 12ms/step - loss: 0.2867 - accuracy: 0.8673 - val_loss: 0.2815 - val_accuracy: 0.8698\n",
            "Epoch 48/50\n",
            "2555/2555 [==============================] - 29s 11ms/step - loss: 0.2862 - accuracy: 0.8673 - val_loss: 0.3047 - val_accuracy: 0.8578\n",
            "Epoch 49/50\n",
            "2555/2555 [==============================] - 24s 9ms/step - loss: 0.2852 - accuracy: 0.8677 - val_loss: 0.2799 - val_accuracy: 0.8699\n",
            "Epoch 50/50\n",
            "2555/2555 [==============================] - 26s 10ms/step - loss: 0.2848 - accuracy: 0.8682 - val_loss: 0.2739 - val_accuracy: 0.8725\n"
          ]
        }
      ],
      "source": [
        "history = model.fit(X_train, Y_train,\n",
        "          epochs = 50,\n",
        "          batch_size=128,\n",
        "          validation_split=0.1,\n",
        "          verbose = 1)"
      ]
    },
    {
      "cell_type": "code",
      "execution_count": 23,
      "metadata": {
        "colab": {
          "base_uri": "https://localhost:8080/",
          "height": 573
        },
        "id": "fO8qsIOkxoFx",
        "outputId": "244a521b-e496-4c13-d161-d29d9cb0f939"
      },
      "outputs": [
        {
          "data": {
            "image/png": "[encoded data removed]",
            "text/plain": [
              "<Figure size 640x480 with 1 Axes>"
            ]
          },
          "metadata": {},
          "output_type": "display_data"
        },
        {
          "data": {
            "image/png": "[encoded data removed]",
            "text/plain": [
              "<Figure size 640x480 with 1 Axes>"
            ]
          },
          "metadata": {},
          "output_type": "display_data"
        }
      ],
      "source": [
        "loss_curve(history)\n",
        "accuracy(history)"
      ]
    },
    {
      "cell_type": "code",
      "execution_count": 24,
      "metadata": {
        "colab": {
          "base_uri": "https://localhost:8080/"
        },
        "id": "PnhnorHuxxJp",
        "outputId": "c5624c72-ab9e-444f-b738-ec30216b782b"
      },
      "outputs": [
        {
          "name": "stdout",
          "output_type": "stream",
          "text": [
            "Evaluating on Test Dataset\n",
            "accuracy: 87.00%\n"
          ]
        }
      ],
      "source": [
        "print(\"Evaluating on Test Dataset\")\n",
        "scores = model.evaluate(X_test, Y_test, verbose=0)\n",
        "print(\"%s: %.2f%%\" % (model.metrics_names[1], scores[1]*100))"
      ]
    },
    {
      "cell_type": "code",
      "execution_count": 25,
      "metadata": {
        "colab": {
          "base_uri": "https://localhost:8080/"
        },
        "id": "M9bU1dX-x5mC",
        "outputId": "da704777-6655-41ab-9320-69c9922f9c28"
      },
      "outputs": [
        {
          "name": "stdout",
          "output_type": "stream",
          "text": [
            "1/1 [==============================] - 0s 244ms/step\n"
          ]
        },
        {
          "data": {
            "text/plain": [
              "array([[0.9950637]], dtype=float32)"
            ]
          },
          "execution_count": 25,
          "metadata": {},
          "output_type": "execute_result"
        }
      ],
      "source": [
        "# Predicting for random year/month/day/hour\n",
        "\n",
        "test = np.array([[2019, 2, 11, 1,25, 49.237994, -123.083282, DistanceToGraffiti(49.237994, -123.083282), DistanceToFountain(49.237994, -123.083282)]])\n",
        "test = scaler.transform(test)\n",
        "ans = model.predict(test)\n",
        "ans"
      ]
    },
    {
      "cell_type": "code",
      "execution_count": 26,
      "metadata": {
        "colab": {
          "base_uri": "https://localhost:8080/"
        },
        "id": "uIOJP6GS0xs2",
        "outputId": "1fa109d7-d5a5-435d-8ccc-ff7ced66e7c2"
      },
      "outputs": [
        {
          "name": "stdout",
          "output_type": "stream",
          "text": [
            "1/1 [==============================] - 0s 59ms/step\n"
          ]
        },
        {
          "data": {
            "text/plain": [
              "array([[0.96351725]], dtype=float32)"
            ]
          },
          "execution_count": 26,
          "metadata": {},
          "output_type": "execute_result"
        }
      ],
      "source": [
        "# Predicting for another random year/month/day/hour\n",
        "\n",
        "test = np.array([[2012, 6, 4, 22, 2, 49.238019, -123.163815, DistanceToGraffiti(49.238019, -123.163815), DistanceToFountain(49.238019, -123.163815)]])\n",
        "test = scaler.transform(test)\n",
        "ans = model.predict(test)\n",
        "ans"
      ]
    },
    {
      "cell_type": "code",
      "execution_count": 27,
      "metadata": {
        "colab": {
          "base_uri": "https://localhost:8080/"
        },
        "id": "cJlbRJ3GCyOB",
        "outputId": "d719fb91-8847-4ebd-b132-831ccab9a110"
      },
      "outputs": [
        {
          "name": "stdout",
          "output_type": "stream",
          "text": [
            "1/1 [==============================] - 0s 76ms/step\n",
            "Likelihood of crime at 0 hour: 99.93488192558289 %\n",
            "1/1 [==============================] - 0s 53ms/step\n",
            "Likelihood of crime at 1 hour: 99.83712434768677 %\n",
            "1/1 [==============================] - 0s 55ms/step\n",
            "Likelihood of crime at 2 hour: 99.15645718574524 %\n",
            "1/1 [==============================] - 0s 52ms/step\n",
            "Likelihood of crime at 3 hour: 97.16687798500061 %\n",
            "1/1 [==============================] - 0s 48ms/step\n",
            "Likelihood of crime at 4 hour: 94.05348896980286 %\n",
            "1/1 [==============================] - 0s 53ms/step\n",
            "Likelihood of crime at 5 hour: 91.27399921417236 %\n",
            "1/1 [==============================] - 0s 50ms/step\n",
            "Likelihood of crime at 6 hour: 91.42061471939087 %\n",
            "1/1 [==============================] - 0s 54ms/step\n",
            "Likelihood of crime at 7 hour: 95.66274285316467 %\n",
            "1/1 [==============================] - 0s 50ms/step\n",
            "Likelihood of crime at 8 hour: 97.69136309623718 %\n",
            "1/1 [==============================] - 0s 51ms/step\n",
            "Likelihood of crime at 9 hour: 98.25946688652039 %\n",
            "1/1 [==============================] - 0s 52ms/step\n",
            "Likelihood of crime at 10 hour: 98.62495064735413 %\n",
            "1/1 [==============================] - 0s 51ms/step\n",
            "Likelihood of crime at 11 hour: 98.9295482635498 %\n",
            "1/1 [==============================] - 0s 50ms/step\n",
            "Likelihood of crime at 12 hour: 99.17391538619995 %\n",
            "1/1 [==============================] - 0s 50ms/step\n",
            "Likelihood of crime at 13 hour: 99.36924576759338 %\n",
            "1/1 [==============================] - 0s 52ms/step\n",
            "Likelihood of crime at 14 hour: 99.53611493110657 %\n",
            "1/1 [==============================] - 0s 50ms/step\n",
            "Likelihood of crime at 15 hour: 99.6683120727539 %\n",
            "1/1 [==============================] - 0s 49ms/step\n",
            "Likelihood of crime at 16 hour: 99.7423768043518 %\n",
            "1/1 [==============================] - 0s 49ms/step\n",
            "Likelihood of crime at 17 hour: 99.76852536201477 %\n",
            "1/1 [==============================] - 0s 49ms/step\n",
            "Likelihood of crime at 18 hour: 99.7657835483551 %\n",
            "1/1 [==============================] - 0s 49ms/step\n",
            "Likelihood of crime at 19 hour: 99.74502325057983 %\n",
            "1/1 [==============================] - 0s 52ms/step\n",
            "Likelihood of crime at 20 hour: 99.71509575843811 %\n",
            "1/1 [==============================] - 0s 48ms/step\n",
            "Likelihood of crime at 21 hour: 99.6847152709961 %\n",
            "1/1 [==============================] - 0s 46ms/step\n",
            "Likelihood of crime at 22 hour: 99.65943694114685 %\n",
            "1/1 [==============================] - 0s 52ms/step\n",
            "Likelihood of crime at 23 hour: 99.64075684547424 %\n",
            "1/1 [==============================] - 0s 49ms/step\n",
            "Likelihood of crime at 24 hour: 99.62782263755798 %\n"
          ]
        }
      ],
      "source": [
        "# Predict crime in a location over the whole day\n",
        "for i in range(0, 25):\n",
        "  test = np.array([[2012, 6, 4, i, 2, 49.284645, -123.136306, DistanceToGraffiti(49.284645, -123.136306), DistanceToFountain(49.284645, -123.136306)]])\n",
        "  test = scaler.transform(test)\n",
        "  ans = model.predict(test)\n",
        "  print(\"Likelihood of crime at \" + str(i) + \" hour: \" + str(ans[0][0]*100) + \" %\") "
      ]
    },
    {
      "cell_type": "code",
      "execution_count": 28,
      "metadata": {
        "colab": {
          "base_uri": "https://localhost:8080/"
        },
        "id": "8RLlTjO-HIGE",
        "outputId": "eff18235-d89a-4426-a587-b7a2db79d75e"
      },
      "outputs": [
        {
          "name": "stdout",
          "output_type": "stream",
          "text": [
            "1/1 [==============================] - 0s 53ms/step\n",
            "Likelihood of crime at 0 hour: 99.93574023246765 %\n",
            "1/1 [==============================] - 0s 45ms/step\n",
            "Likelihood of crime at 1 hour: 99.84392523765564 %\n",
            "1/1 [==============================] - 0s 49ms/step\n",
            "Likelihood of crime at 2 hour: 99.3400514125824 %\n",
            "1/1 [==============================] - 0s 50ms/step\n",
            "Likelihood of crime at 3 hour: 98.15558791160583 %\n",
            "1/1 [==============================] - 0s 47ms/step\n",
            "Likelihood of crime at 4 hour: 96.46177291870117 %\n",
            "1/1 [==============================] - 0s 52ms/step\n",
            "Likelihood of crime at 5 hour: 94.97777819633484 %\n",
            "1/1 [==============================] - 0s 48ms/step\n",
            "Likelihood of crime at 6 hour: 95.2345609664917 %\n",
            "1/1 [==============================] - 0s 49ms/step\n",
            "Likelihood of crime at 7 hour: 97.64660000801086 %\n",
            "1/1 [==============================] - 0s 50ms/step\n",
            "Likelihood of crime at 8 hour: 98.69188666343689 %\n",
            "1/1 [==============================] - 0s 48ms/step\n",
            "Likelihood of crime at 9 hour: 98.99300932884216 %\n",
            "1/1 [==============================] - 0s 47ms/step\n",
            "Likelihood of crime at 10 hour: 99.18530583381653 %\n",
            "1/1 [==============================] - 0s 53ms/step\n",
            "Likelihood of crime at 11 hour: 99.34108257293701 %\n",
            "1/1 [==============================] - 0s 47ms/step\n",
            "Likelihood of crime at 12 hour: 99.46514368057251 %\n",
            "1/1 [==============================] - 0s 49ms/step\n",
            "Likelihood of crime at 13 hour: 99.56744909286499 %\n",
            "1/1 [==============================] - 0s 49ms/step\n",
            "Likelihood of crime at 14 hour: 99.66227412223816 %\n",
            "1/1 [==============================] - 0s 46ms/step\n",
            "Likelihood of crime at 15 hour: 99.7445285320282 %\n",
            "1/1 [==============================] - 0s 49ms/step\n",
            "Likelihood of crime at 16 hour: 99.79223012924194 %\n",
            "1/1 [==============================] - 0s 45ms/step\n",
            "Likelihood of crime at 17 hour: 99.80636835098267 %\n",
            "1/1 [==============================] - 0s 51ms/step\n",
            "Likelihood of crime at 18 hour: 99.79808330535889 %\n",
            "1/1 [==============================] - 0s 42ms/step\n",
            "Likelihood of crime at 19 hour: 99.77462887763977 %\n",
            "1/1 [==============================] - 0s 51ms/step\n",
            "Likelihood of crime at 20 hour: 99.74305033683777 %\n",
            "1/1 [==============================] - 0s 47ms/step\n",
            "Likelihood of crime at 21 hour: 99.71107244491577 %\n",
            "1/1 [==============================] - 0s 47ms/step\n",
            "Likelihood of crime at 22 hour: 99.68394637107849 %\n",
            "1/1 [==============================] - 0s 45ms/step\n",
            "Likelihood of crime at 23 hour: 99.66321587562561 %\n",
            "1/1 [==============================] - 0s 44ms/step\n",
            "Likelihood of crime at 24 hour: 99.64818954467773 %\n"
          ]
        }
      ],
      "source": [
        "# Predict crime in a location over the whole day\n",
        "for i in range(0, 25):\n",
        "  test = np.array([[2012, 6, 4, i, 2, 49.289599, -123.136649, DistanceToGraffiti(49.289599, -123.136649), DistanceToFountain(49.289599, -123.136649)]])\n",
        "  test = scaler.transform(test)\n",
        "  ans = model.predict(test)\n",
        "  print(\"Likelihood of crime at \" + str(i) + \" hour: \" + str(ans[0][0]*100) + \" %\") "
      ]
    },
    {
      "cell_type": "code",
      "execution_count": 29,
      "metadata": {
        "colab": {
          "base_uri": "https://localhost:8080/"
        },
        "id": "uv3goCFtIKzG",
        "outputId": "719c44b2-d218-47dc-b544-82126c0fc843"
      },
      "outputs": [
        {
          "name": "stdout",
          "output_type": "stream",
          "text": [
            "1/1 [==============================] - 0s 54ms/step\n",
            "Likelihood of crime at 0 hour: 99.78669285774231 %\n",
            "1/1 [==============================] - 0s 43ms/step\n",
            "Likelihood of crime at 1 hour: 97.76644110679626 %\n",
            "1/1 [==============================] - 0s 44ms/step\n",
            "Likelihood of crime at 2 hour: 77.29945778846741 %\n",
            "1/1 [==============================] - 0s 50ms/step\n",
            "Likelihood of crime at 3 hour: 55.82380294799805 %\n",
            "1/1 [==============================] - 0s 48ms/step\n",
            "Likelihood of crime at 4 hour: 44.87149119377136 %\n",
            "1/1 [==============================] - 0s 43ms/step\n",
            "Likelihood of crime at 5 hour: 37.81711757183075 %\n",
            "1/1 [==============================] - 0s 45ms/step\n",
            "Likelihood of crime at 6 hour: 35.92503070831299 %\n",
            "1/1 [==============================] - 0s 44ms/step\n",
            "Likelihood of crime at 7 hour: 48.89180064201355 %\n",
            "1/1 [==============================] - 0s 44ms/step\n",
            "Likelihood of crime at 8 hour: 71.65349125862122 %\n",
            "1/1 [==============================] - 0s 45ms/step\n",
            "Likelihood of crime at 9 hour: 78.70484590530396 %\n",
            "1/1 [==============================] - 0s 45ms/step\n",
            "Likelihood of crime at 10 hour: 81.20823502540588 %\n",
            "1/1 [==============================] - 0s 44ms/step\n",
            "Likelihood of crime at 11 hour: 83.30883979797363 %\n",
            "1/1 [==============================] - 0s 46ms/step\n",
            "Likelihood of crime at 12 hour: 85.46658158302307 %\n",
            "1/1 [==============================] - 0s 44ms/step\n",
            "Likelihood of crime at 13 hour: 87.85824179649353 %\n",
            "1/1 [==============================] - 0s 47ms/step\n",
            "Likelihood of crime at 14 hour: 90.7608151435852 %\n",
            "1/1 [==============================] - 0s 43ms/step\n",
            "Likelihood of crime at 15 hour: 93.76741051673889 %\n",
            "1/1 [==============================] - 0s 46ms/step\n",
            "Likelihood of crime at 16 hour: 95.81647515296936 %\n",
            "1/1 [==============================] - 0s 44ms/step\n",
            "Likelihood of crime at 17 hour: 96.9061017036438 %\n",
            "1/1 [==============================] - 0s 42ms/step\n",
            "Likelihood of crime at 18 hour: 97.51520156860352 %\n",
            "1/1 [==============================] - 0s 43ms/step\n",
            "Likelihood of crime at 19 hour: 97.89671301841736 %\n",
            "1/1 [==============================] - 0s 44ms/step\n",
            "Likelihood of crime at 20 hour: 98.16048741340637 %\n",
            "1/1 [==============================] - 0s 46ms/step\n",
            "Likelihood of crime at 21 hour: 98.36615920066833 %\n",
            "1/1 [==============================] - 0s 45ms/step\n",
            "Likelihood of crime at 22 hour: 98.54352474212646 %\n",
            "1/1 [==============================] - 0s 44ms/step\n",
            "Likelihood of crime at 23 hour: 98.70145320892334 %\n",
            "1/1 [==============================] - 0s 44ms/step\n",
            "Likelihood of crime at 24 hour: 98.84000420570374 %\n"
          ]
        }
      ],
      "source": [
        "# Predict crime in a location over the whole day\n",
        "for i in range(0, 25):\n",
        "  test = np.array([[2012, 6, 4, i, 2, 49.244879, -123.085077, DistanceToGraffiti(49.244879, -123.085077), DistanceToFountain(49.244879, -123.085077)]])\n",
        "  test = scaler.transform(test)\n",
        "  ans = model.predict(test)\n",
        "  print(\"Likelihood of crime at \" + str(i) + \" hour: \" + str(ans[0][0]*100) + \" %\") "
      ]
    },
    {
      "cell_type": "code",
      "execution_count": 30,
      "metadata": {
        "id": "7a2itkGUQvhT"
      },
      "outputs": [
        {
          "name": "stdout",
          "output_type": "stream",
          "text": [
            "Keras weights file (<HDF5 file \"variables.h5\" (mode r+)>) saving:\n",
            "...layers\n",
            "......dense\n",
            ".........vars\n",
            "............0\n",
            "............1\n",
            "......dense_1\n",
            ".........vars\n",
            "............0\n",
            "............1\n",
            "......dense_2\n",
            ".........vars\n",
            "............0\n",
            "............1\n",
            "......dense_3\n",
            ".........vars\n",
            "............0\n",
            "............1\n",
            "......dense_4\n",
            ".........vars\n",
            "............0\n",
            "............1\n",
            "......dense_5\n",
            ".........vars\n",
            "............0\n",
            "............1\n",
            "...metrics\n",
            "......mean\n",
            ".........vars\n",
            "............0\n",
            "............1\n",
            "......mean_metric_wrapper\n",
            ".........vars\n",
            "............0\n",
            "............1\n",
            "...optimizer\n",
            "......vars\n",
            ".........0\n",
            ".........1\n",
            ".........10\n",
            ".........11\n",
            ".........12\n",
            ".........2\n",
            ".........3\n",
            ".........4\n",
            ".........5\n",
            ".........6\n",
            ".........7\n",
            ".........8\n",
            ".........9\n",
            "...vars\n",
            "Keras model archive saving:\n",
            "File Name                                             Modified             Size\n",
            "variables.h5                                   2023-01-31 16:30:53      1223704\n",
            "config.json                                    2023-01-31 16:30:53         3114\n",
            "metadata.json                                  2023-01-31 16:30:53           64\n"
          ]
        }
      ],
      "source": [
        "\n",
        "\n",
        "pickle.dump(model, open('model.pkl', 'wb'))\n"
      ]
    },
    {
      "cell_type": "code",
      "execution_count": 31,
      "metadata": {
        "colab": {
          "base_uri": "https://localhost:8080/"
        },
        "id": "8wcxaIyMQyBN",
        "outputId": "10940baa-0324-43bb-f16e-a3e3587cf27c"
      },
      "outputs": [
        {
          "name": "stdout",
          "output_type": "stream",
          "text": [
            "Keras model archive loading:\n",
            "File Name                                             Modified             Size\n",
            "variables.h5                                   2023-01-31 16:30:52      1223704\n",
            "config.json                                    2023-01-31 16:30:52         3114\n",
            "metadata.json                                  2023-01-31 16:30:52           64\n",
            "Keras weights file (<HDF5 file \"variables.h5\" (mode r)>) loading:\n",
            "...layers\n",
            "......dense\n",
            ".........vars\n",
            "............0\n",
            "............1\n",
            "......dense_1\n",
            ".........vars\n",
            "............0\n",
            "............1\n",
            "......dense_2\n",
            ".........vars\n",
            "............0\n",
            "............1\n",
            "......dense_3\n",
            ".........vars\n",
            "............0\n",
            "............1\n",
            "......dense_4\n",
            ".........vars\n",
            "............0\n",
            "............1\n",
            "......dense_5\n",
            ".........vars\n",
            "............0\n",
            "............1\n",
            "...metrics\n",
            "......mean\n",
            ".........vars\n",
            "............0\n",
            "............1\n",
            "......mean_metric_wrapper\n",
            ".........vars\n",
            "............0\n",
            "............1\n",
            "...optimizer\n",
            "......vars\n",
            ".........0\n",
            ".........1\n",
            ".........10\n",
            ".........11\n",
            ".........12\n",
            ".........2\n",
            ".........3\n",
            ".........4\n",
            ".........5\n",
            ".........6\n",
            ".........7\n",
            ".........8\n",
            ".........9\n",
            "...vars\n",
            "['dense_input']\n"
          ]
        }
      ],
      "source": [
        "with open(\"model.pkl\", \"rb\") as file:\n",
        "    model1 = pickle.load(file)\n",
        "\n",
        "inputs = model1.input_names\n",
        "print(inputs)"
      ]
    },
    {
      "cell_type": "code",
      "execution_count": 32,
      "metadata": {
        "id": "NuhzGfJWWxEG"
      },
      "outputs": [],
      "source": [
        "test = np.array([[2012, 6, 4, 22, 2, 49.238019, -123.163815, DistanceToGraffiti(49.238019, -123.163815), DistanceToFountain(49.238019, -123.163815)]])"
      ]
    },
    {
      "cell_type": "code",
      "execution_count": 33,
      "metadata": {
        "colab": {
          "base_uri": "https://localhost:8080/"
        },
        "id": "VLu59kFgh9w7",
        "outputId": "84718112-62f5-4252-b06d-4b34566ff21f"
      },
      "outputs": [
        {
          "name": "stdout",
          "output_type": "stream",
          "text": [
            "1/1 [==============================] - 0s 173ms/step\n"
          ]
        },
        {
          "data": {
            "text/plain": [
              "array([[0.18769622]], dtype=float32)"
            ]
          },
          "execution_count": 33,
          "metadata": {},
          "output_type": "execute_result"
        }
      ],
      "source": [
        "model1.predict(test)"
      ]
    },
    {
      "cell_type": "code",
      "execution_count": 34,
      "metadata": {
        "id": "skTJNFHfiAIg"
      },
      "outputs": [],
      "source": [
        "test = np.array([[2012, 6, 4, 22, 2, 49.238019, -123.163815, DistanceToGraffiti(49.238019, -123.163815), DistanceToFountain(49.238019, -123.163815)]])\n",
        "test = scaler.transform(test)"
      ]
    },
    {
      "cell_type": "code",
      "execution_count": 35,
      "metadata": {
        "colab": {
          "base_uri": "https://localhost:8080/"
        },
        "id": "OXBn7IHKkpN0",
        "outputId": "20031561-792b-4196-ed87-7d181e97345e"
      },
      "outputs": [
        {
          "name": "stdout",
          "output_type": "stream",
          "text": [
            "1/1 [==============================] - 0s 51ms/step\n"
          ]
        },
        {
          "data": {
            "text/plain": [
              "array([[0.96351725]], dtype=float32)"
            ]
          },
          "execution_count": 35,
          "metadata": {},
          "output_type": "execute_result"
        }
      ],
      "source": [
        "model1.predict(test)"
      ]
    },
    {
      "cell_type": "code",
      "execution_count": 36,
      "metadata": {
        "id": "P_N6SHh2krFS"
      },
      "outputs": [],
      "source": [
        "test = np.array([[2019, 2, 11, 1,25, 49.237994, -123.083282, DistanceToGraffiti(49.237994, -123.083282), DistanceToFountain(49.237994, -123.083282)]])"
      ]
    },
    {
      "cell_type": "code",
      "execution_count": 37,
      "metadata": {
        "colab": {
          "base_uri": "https://localhost:8080/"
        },
        "id": "wmsObMYUlJh9",
        "outputId": "27c34d27-7577-4fa6-9f0e-f571f7960703"
      },
      "outputs": [
        {
          "name": "stdout",
          "output_type": "stream",
          "text": [
            "1/1 [==============================] - 0s 50ms/step\n"
          ]
        },
        {
          "data": {
            "text/plain": [
              "array([[0.0946365]], dtype=float32)"
            ]
          },
          "execution_count": 37,
          "metadata": {},
          "output_type": "execute_result"
        }
      ],
      "source": [
        "model1.predict(test)"
      ]
    },
    {
      "cell_type": "code",
      "execution_count": 38,
      "metadata": {
        "id": "wVXrrZJTlK5A"
      },
      "outputs": [],
      "source": [
        "with open('DistanceToFountain.pkl', 'rb') as file:\n",
        "    func = pickle.load(file)\n"
      ]
    },
    {
      "cell_type": "code",
      "execution_count": 39,
      "metadata": {
        "colab": {
          "base_uri": "https://localhost:8080/"
        },
        "id": "MClVoFxbyEXJ",
        "outputId": "08990ac6-cd59-449e-d0bc-04cfef45fab8"
      },
      "outputs": [
        {
          "data": {
            "text/plain": [
              "0.40229507588315133"
            ]
          },
          "execution_count": 39,
          "metadata": {},
          "output_type": "execute_result"
        }
      ],
      "source": [
        "func(49.2650765,-123.1184743)"
      ]
    },
    {
      "cell_type": "code",
      "execution_count": null,
      "metadata": {
        "id": "NLaSyZPFyNL1"
      },
      "outputs": [],
      "source": []
    }
  ],
  "metadata": {
    "accelerator": "GPU",
    "colab": {
      "collapsed_sections": [
        "wQ0XF1PJP91z",
        "jO6b4AWjhPTR",
        "vFAUf_h9gTkN",
        "7xfkROGUgc00",
        "4noydWb5gh_I",
        "RIFWP5OHyHRO",
        "vqaiTSXa7dix"
      ],
      "provenance": []
    },
    "kernelspec": {
      "display_name": "Python 3.10.6 64-bit",
      "language": "python",
      "name": "python3"
    },
    "language_info": {
      "codemirror_mode": {
        "name": "ipython",
        "version": 3
      },
      "file_extension": ".py",
      "mimetype": "text/x-python",
      "name": "python",
      "nbconvert_exporter": "python",
      "pygments_lexer": "ipython3",
      "version": "3.10.6"
    },
    "vscode": {
      "interpreter": {
        "hash": "916dbcbb3f70747c44a77c7bcd40155683ae19c65e1c03b4aa3499c5328201f1"
      }
    }
  },
  "nbformat": 4,
  "nbformat_minor": 0
}
